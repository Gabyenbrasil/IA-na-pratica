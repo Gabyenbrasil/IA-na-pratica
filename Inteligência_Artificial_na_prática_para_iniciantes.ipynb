{
  "nbformat": 4,
  "nbformat_minor": 0,
  "metadata": {
    "colab": {
      "name": "Inteligência Artificial na prática para iniciantes.ipynb",
      "provenance": [],
      "collapsed_sections": []
    },
    "kernelspec": {
      "name": "python3",
      "display_name": "Python 3"
    },
    "language_info": {
      "name": "python"
    }
  },
  "cells": [
    {
      "cell_type": "markdown",
      "metadata": {
        "id": "qrhyB4uWNwvt"
      },
      "source": [
        "# Etapa 1 - Entendimento do Problema \n",
        "\n",
        "## Melhorar a conversão de vendas a partir da análise de campanhas realizadas no Facebook. "
      ]
    },
    {
      "cell_type": "markdown",
      "metadata": {
        "id": "l5qDGQ3eN13Z"
      },
      "source": [
        "# Etapa 2: Coleta de Dados\n",
        "\n",
        "#### Você pode baixar esse conjunto de dados no site: https://www.kaggle.com/loveall/clicks-conversion-tracking"
      ]
    },
    {
      "cell_type": "markdown",
      "metadata": {
        "id": "mmftZH0VN45D"
      },
      "source": [
        "# Etapa 3: Análise, Interpretação e Visualização dos Dados\n"
      ]
    },
    {
      "cell_type": "markdown",
      "metadata": {
        "id": "OpnFSbnQN7Xh"
      },
      "source": [
        "#### Importando as bibliotecas"
      ]
    },
    {
      "cell_type": "code",
      "metadata": {
        "id": "qgqyrshnNzES"
      },
      "source": [
        "#Manipulação dos dados\n",
        "import pandas as pd\n",
        "#Visualização\n",
        "\n",
        "#Machine Learning"
      ],
      "execution_count": 5,
      "outputs": []
    },
    {
      "cell_type": "markdown",
      "metadata": {
        "id": "rlsHyd4YOHn-"
      },
      "source": [
        "#### Carregando os dados"
      ]
    },
    {
      "cell_type": "markdown",
      "metadata": {
        "id": "eyUXcKq1OLJL"
      },
      "source": [
        "#### Primeira Inspeção"
      ]
    },
    {
      "cell_type": "code",
      "metadata": {
        "id": "8cb0OOJHOIOz"
      },
      "source": [
        "df = pd.read_csv('KAG_conversion_data.csv')"
      ],
      "execution_count": 8,
      "outputs": []
    },
    {
      "cell_type": "code",
      "metadata": {
        "id": "iP7NFHG9OQ66",
        "outputId": "bcb50641-a3c2-4ff1-94eb-d3d791f484dc",
        "colab": {
          "base_uri": "https://localhost:8080/",
          "height": 549
        }
      },
      "source": [
        "df.head(10)"
      ],
      "execution_count": 9,
      "outputs": [
        {
          "output_type": "execute_result",
          "data": {
            "text/html": [
              "<div>\n",
              "<style scoped>\n",
              "    .dataframe tbody tr th:only-of-type {\n",
              "        vertical-align: middle;\n",
              "    }\n",
              "\n",
              "    .dataframe tbody tr th {\n",
              "        vertical-align: top;\n",
              "    }\n",
              "\n",
              "    .dataframe thead th {\n",
              "        text-align: right;\n",
              "    }\n",
              "</style>\n",
              "<table border=\"1\" class=\"dataframe\">\n",
              "  <thead>\n",
              "    <tr style=\"text-align: right;\">\n",
              "      <th></th>\n",
              "      <th>ad_id</th>\n",
              "      <th>xyz_campaign_id</th>\n",
              "      <th>fb_campaign_id</th>\n",
              "      <th>age</th>\n",
              "      <th>gender</th>\n",
              "      <th>interest</th>\n",
              "      <th>Impressions</th>\n",
              "      <th>Clicks</th>\n",
              "      <th>Spent</th>\n",
              "      <th>Total_Conversion</th>\n",
              "      <th>Approved_Conversion</th>\n",
              "    </tr>\n",
              "  </thead>\n",
              "  <tbody>\n",
              "    <tr>\n",
              "      <th>0</th>\n",
              "      <td>708746</td>\n",
              "      <td>916</td>\n",
              "      <td>103916</td>\n",
              "      <td>30-34</td>\n",
              "      <td>M</td>\n",
              "      <td>15</td>\n",
              "      <td>7350</td>\n",
              "      <td>1</td>\n",
              "      <td>1.43</td>\n",
              "      <td>2</td>\n",
              "      <td>1</td>\n",
              "    </tr>\n",
              "    <tr>\n",
              "      <th>1</th>\n",
              "      <td>708749</td>\n",
              "      <td>916</td>\n",
              "      <td>103917</td>\n",
              "      <td>30-34</td>\n",
              "      <td>M</td>\n",
              "      <td>16</td>\n",
              "      <td>17861</td>\n",
              "      <td>2</td>\n",
              "      <td>1.82</td>\n",
              "      <td>2</td>\n",
              "      <td>0</td>\n",
              "    </tr>\n",
              "    <tr>\n",
              "      <th>2</th>\n",
              "      <td>708771</td>\n",
              "      <td>916</td>\n",
              "      <td>103920</td>\n",
              "      <td>30-34</td>\n",
              "      <td>M</td>\n",
              "      <td>20</td>\n",
              "      <td>693</td>\n",
              "      <td>0</td>\n",
              "      <td>0.00</td>\n",
              "      <td>1</td>\n",
              "      <td>0</td>\n",
              "    </tr>\n",
              "    <tr>\n",
              "      <th>3</th>\n",
              "      <td>708815</td>\n",
              "      <td>916</td>\n",
              "      <td>103928</td>\n",
              "      <td>30-34</td>\n",
              "      <td>M</td>\n",
              "      <td>28</td>\n",
              "      <td>4259</td>\n",
              "      <td>1</td>\n",
              "      <td>1.25</td>\n",
              "      <td>1</td>\n",
              "      <td>0</td>\n",
              "    </tr>\n",
              "    <tr>\n",
              "      <th>4</th>\n",
              "      <td>708818</td>\n",
              "      <td>916</td>\n",
              "      <td>103928</td>\n",
              "      <td>30-34</td>\n",
              "      <td>M</td>\n",
              "      <td>28</td>\n",
              "      <td>4133</td>\n",
              "      <td>1</td>\n",
              "      <td>1.29</td>\n",
              "      <td>1</td>\n",
              "      <td>1</td>\n",
              "    </tr>\n",
              "    <tr>\n",
              "      <th>5</th>\n",
              "      <td>708820</td>\n",
              "      <td>916</td>\n",
              "      <td>103929</td>\n",
              "      <td>30-34</td>\n",
              "      <td>M</td>\n",
              "      <td>29</td>\n",
              "      <td>1915</td>\n",
              "      <td>0</td>\n",
              "      <td>0.00</td>\n",
              "      <td>1</td>\n",
              "      <td>1</td>\n",
              "    </tr>\n",
              "    <tr>\n",
              "      <th>6</th>\n",
              "      <td>708889</td>\n",
              "      <td>916</td>\n",
              "      <td>103940</td>\n",
              "      <td>30-34</td>\n",
              "      <td>M</td>\n",
              "      <td>15</td>\n",
              "      <td>15615</td>\n",
              "      <td>3</td>\n",
              "      <td>4.77</td>\n",
              "      <td>1</td>\n",
              "      <td>0</td>\n",
              "    </tr>\n",
              "    <tr>\n",
              "      <th>7</th>\n",
              "      <td>708895</td>\n",
              "      <td>916</td>\n",
              "      <td>103941</td>\n",
              "      <td>30-34</td>\n",
              "      <td>M</td>\n",
              "      <td>16</td>\n",
              "      <td>10951</td>\n",
              "      <td>1</td>\n",
              "      <td>1.27</td>\n",
              "      <td>1</td>\n",
              "      <td>1</td>\n",
              "    </tr>\n",
              "    <tr>\n",
              "      <th>8</th>\n",
              "      <td>708953</td>\n",
              "      <td>916</td>\n",
              "      <td>103951</td>\n",
              "      <td>30-34</td>\n",
              "      <td>M</td>\n",
              "      <td>27</td>\n",
              "      <td>2355</td>\n",
              "      <td>1</td>\n",
              "      <td>1.50</td>\n",
              "      <td>1</td>\n",
              "      <td>0</td>\n",
              "    </tr>\n",
              "    <tr>\n",
              "      <th>9</th>\n",
              "      <td>708958</td>\n",
              "      <td>916</td>\n",
              "      <td>103952</td>\n",
              "      <td>30-34</td>\n",
              "      <td>M</td>\n",
              "      <td>28</td>\n",
              "      <td>9502</td>\n",
              "      <td>3</td>\n",
              "      <td>3.16</td>\n",
              "      <td>1</td>\n",
              "      <td>0</td>\n",
              "    </tr>\n",
              "  </tbody>\n",
              "</table>\n",
              "</div>"
            ],
            "text/plain": [
              "    ad_id  xyz_campaign_id  ...  Total_Conversion Approved_Conversion\n",
              "0  708746              916  ...                 2                   1\n",
              "1  708749              916  ...                 2                   0\n",
              "2  708771              916  ...                 1                   0\n",
              "3  708815              916  ...                 1                   0\n",
              "4  708818              916  ...                 1                   1\n",
              "5  708820              916  ...                 1                   1\n",
              "6  708889              916  ...                 1                   0\n",
              "7  708895              916  ...                 1                   1\n",
              "8  708953              916  ...                 1                   0\n",
              "9  708958              916  ...                 1                   0\n",
              "\n",
              "[10 rows x 11 columns]"
            ]
          },
          "metadata": {
            "tags": []
          },
          "execution_count": 9
        }
      ]
    },
    {
      "cell_type": "code",
      "metadata": {
        "id": "RhhyKYhpTxri",
        "outputId": "e5812afe-dc42-4d8d-a23f-ee53d3178458",
        "colab": {
          "base_uri": "https://localhost:8080/"
        }
      },
      "source": [
        "df.tail"
      ],
      "execution_count": 10,
      "outputs": [
        {
          "output_type": "execute_result",
          "data": {
            "text/plain": [
              "<bound method NDFrame.tail of         ad_id  xyz_campaign_id  ...  Total_Conversion Approved_Conversion\n",
              "0      708746              916  ...                 2                   1\n",
              "1      708749              916  ...                 2                   0\n",
              "2      708771              916  ...                 1                   0\n",
              "3      708815              916  ...                 1                   0\n",
              "4      708818              916  ...                 1                   1\n",
              "...       ...              ...  ...               ...                 ...\n",
              "1138  1314410             1178  ...                13                   2\n",
              "1139  1314411             1178  ...                 3                   0\n",
              "1140  1314412             1178  ...                 2                   0\n",
              "1141  1314414             1178  ...                 8                   2\n",
              "1142  1314415             1178  ...                 5                   2\n",
              "\n",
              "[1143 rows x 11 columns]>"
            ]
          },
          "metadata": {
            "tags": []
          },
          "execution_count": 10
        }
      ]
    },
    {
      "cell_type": "code",
      "metadata": {
        "id": "rD9HTpmDT77R",
        "outputId": "7c4b2799-8b0b-4ff8-a2be-32aeb5e57257",
        "colab": {
          "base_uri": "https://localhost:8080/"
        }
      },
      "source": [
        "df.columns"
      ],
      "execution_count": 11,
      "outputs": [
        {
          "output_type": "execute_result",
          "data": {
            "text/plain": [
              "Index(['ad_id', 'xyz_campaign_id', 'fb_campaign_id', 'age', 'gender',\n",
              "       'interest', 'Impressions', 'Clicks', 'Spent', 'Total_Conversion',\n",
              "       'Approved_Conversion'],\n",
              "      dtype='object')"
            ]
          },
          "metadata": {
            "tags": []
          },
          "execution_count": 11
        }
      ]
    },
    {
      "cell_type": "code",
      "metadata": {
        "id": "7wlFxD8rUJ8L",
        "outputId": "724e8f1b-3224-4fa3-fa56-29383cf03812",
        "colab": {
          "base_uri": "https://localhost:8080/"
        }
      },
      "source": [
        "df.index"
      ],
      "execution_count": 12,
      "outputs": [
        {
          "output_type": "execute_result",
          "data": {
            "text/plain": [
              "RangeIndex(start=0, stop=1143, step=1)"
            ]
          },
          "metadata": {
            "tags": []
          },
          "execution_count": 12
        }
      ]
    },
    {
      "cell_type": "code",
      "metadata": {
        "id": "sIeLgD3AUbea",
        "outputId": "dcefd22b-9e67-4b5f-c45c-a10e3177e8da",
        "colab": {
          "base_uri": "https://localhost:8080/"
        }
      },
      "source": [
        "df.shape"
      ],
      "execution_count": 13,
      "outputs": [
        {
          "output_type": "execute_result",
          "data": {
            "text/plain": [
              "(1143, 11)"
            ]
          },
          "metadata": {
            "tags": []
          },
          "execution_count": 13
        }
      ]
    },
    {
      "cell_type": "code",
      "metadata": {
        "id": "GZ56B163UieJ",
        "outputId": "55ae8c36-f770-4c60-a717-1c9300bec34c",
        "colab": {
          "base_uri": "https://localhost:8080/"
        }
      },
      "source": [
        "linhas, colunas = df.shape\n",
        "print(f'o número de linhas é {linhas}')"
      ],
      "execution_count": 18,
      "outputs": [
        {
          "output_type": "stream",
          "text": [
            "o número de linhas é 1143\n"
          ],
          "name": "stdout"
        }
      ]
    },
    {
      "cell_type": "code",
      "metadata": {
        "id": "50nqb5YcVOyj",
        "outputId": "f91092b6-b451-43b8-f5fc-2ae71479fe20",
        "colab": {
          "base_uri": "https://localhost:8080/"
        }
      },
      "source": [
        "type(df)"
      ],
      "execution_count": 19,
      "outputs": [
        {
          "output_type": "execute_result",
          "data": {
            "text/plain": [
              "pandas.core.frame.DataFrame"
            ]
          },
          "metadata": {
            "tags": []
          },
          "execution_count": 19
        }
      ]
    },
    {
      "cell_type": "code",
      "metadata": {
        "id": "REIqQyLnVWVi",
        "outputId": "3363ebee-69f1-45a6-e2ba-aab8de213631",
        "colab": {
          "base_uri": "https://localhost:8080/"
        }
      },
      "source": [
        "df.info()"
      ],
      "execution_count": 21,
      "outputs": [
        {
          "output_type": "stream",
          "text": [
            "<class 'pandas.core.frame.DataFrame'>\n",
            "RangeIndex: 1143 entries, 0 to 1142\n",
            "Data columns (total 11 columns):\n",
            " #   Column               Non-Null Count  Dtype  \n",
            "---  ------               --------------  -----  \n",
            " 0   ad_id                1143 non-null   int64  \n",
            " 1   xyz_campaign_id      1143 non-null   int64  \n",
            " 2   fb_campaign_id       1143 non-null   int64  \n",
            " 3   age                  1143 non-null   object \n",
            " 4   gender               1143 non-null   object \n",
            " 5   interest             1143 non-null   int64  \n",
            " 6   Impressions          1143 non-null   int64  \n",
            " 7   Clicks               1143 non-null   int64  \n",
            " 8   Spent                1143 non-null   float64\n",
            " 9   Total_Conversion     1143 non-null   int64  \n",
            " 10  Approved_Conversion  1143 non-null   int64  \n",
            "dtypes: float64(1), int64(8), object(2)\n",
            "memory usage: 98.4+ KB\n"
          ],
          "name": "stdout"
        }
      ]
    },
    {
      "cell_type": "markdown",
      "metadata": {
        "id": "1QPqlfrrOfsX"
      },
      "source": [
        "#### Dicionário dos dados\n",
        "\n",
        "\n",
        "\n",
        "1.   ad_id - ID único para cada anúncio\n",
        "2.   xyzcampaignid - ID associado a cada campanha publicitária da empresa XYZ\n",
        "3.   fbcampaignid - ID associado a como o Facebook rastreia cada campanha.\n",
        "4.   age - idade da pessoa a quem o anúncio é mostrado.\n",
        "5.   gender - sexo da pessoa que deseja que o anúncio seja mostrado\n",
        "6.   interest - código que especifica a categoria à qual pertence o interesse da pessoa (os interesses são mencionados no perfil público da pessoa no Facebook)\n",
        "7.   Impression - o número de vezes que o anúncio foi mostrado.\n",
        "8.   Clicks - número de cliques nesse anúncio.\n",
        "9.   Spent - Valor pago pela empresa xyz ao Facebook, para exibir aquele anúncio.\n",
        "10.  Total conversion - Número total de pessoas que fizeram perguntas sobre o produto depois de ver o anúncio.\n",
        "11.  Approved conversion - Número total de pessoas que compraram o produto depois de ver o anúncio."
      ]
    },
    {
      "cell_type": "code",
      "metadata": {
        "id": "XRfrx-rcYCtw"
      },
      "source": [
        ""
      ],
      "execution_count": null,
      "outputs": []
    },
    {
      "cell_type": "markdown",
      "metadata": {
        "id": "6HmKg2RvOuZX"
      },
      "source": [
        "#### Renomeando as colunas"
      ]
    },
    {
      "cell_type": "code",
      "metadata": {
        "id": "YyEDPv_SOgA8"
      },
      "source": [
        ""
      ],
      "execution_count": null,
      "outputs": []
    },
    {
      "cell_type": "markdown",
      "metadata": {
        "id": "uWV2f2AZQLZ8"
      },
      "source": [
        "#### Informações Estatísticas"
      ]
    },
    {
      "cell_type": "markdown",
      "metadata": {
        "id": "8T0Tri7pOwx_"
      },
      "source": [
        "#### Dados Faltantes"
      ]
    },
    {
      "cell_type": "code",
      "metadata": {
        "id": "eFpmkk83PO14"
      },
      "source": [
        ""
      ],
      "execution_count": null,
      "outputs": []
    },
    {
      "cell_type": "markdown",
      "metadata": {
        "id": "tDcpwEQRPPAl"
      },
      "source": [
        "#### Outliers"
      ]
    },
    {
      "cell_type": "code",
      "metadata": {
        "id": "4cJv68f7PSb-"
      },
      "source": [
        ""
      ],
      "execution_count": null,
      "outputs": []
    },
    {
      "cell_type": "markdown",
      "metadata": {
        "id": "ZMxlYi70S_Lh"
      },
      "source": [
        "#### Duplicatas"
      ]
    },
    {
      "cell_type": "code",
      "metadata": {
        "id": "A4Bnxy6dS_bu"
      },
      "source": [
        ""
      ],
      "execution_count": null,
      "outputs": []
    },
    {
      "cell_type": "markdown",
      "metadata": {
        "id": "FfEVRk_VTAER"
      },
      "source": [
        "#### Matriz de Correlação "
      ]
    },
    {
      "cell_type": "code",
      "metadata": {
        "id": "oWB5FOcOTCMG"
      },
      "source": [
        ""
      ],
      "execution_count": null,
      "outputs": []
    },
    {
      "cell_type": "markdown",
      "metadata": {
        "id": "BEQSgq1pdU_R"
      },
      "source": [
        "\"numero_exibicoes\" e \"conversao\" estão mais correlacionados com \"compras\" do que \"cliques_no_anuncio\" e \"valor_pago_anuncio\"."
      ]
    },
    {
      "cell_type": "markdown",
      "metadata": {
        "id": "lbrwtSzwTLLD"
      },
      "source": [
        "#### Avaliando as Features (Colunas)"
      ]
    },
    {
      "cell_type": "markdown",
      "metadata": {
        "id": "lJ7HSyP4dZPx"
      },
      "source": [
        "##### id_campanha - ID associado a cada campanha publicitária da empresa XYZ"
      ]
    },
    {
      "cell_type": "code",
      "metadata": {
        "id": "J5uZwxOoTLZ3"
      },
      "source": [
        ""
      ],
      "execution_count": null,
      "outputs": []
    },
    {
      "cell_type": "markdown",
      "metadata": {
        "id": "Og9ADj9jdlKF"
      },
      "source": [
        "##### compras - Número total de pessoas que compraram o produto depois de ver o anúncio."
      ]
    },
    {
      "cell_type": "code",
      "metadata": {
        "id": "VJLC1DeVdlZZ"
      },
      "source": [
        ""
      ],
      "execution_count": null,
      "outputs": []
    },
    {
      "cell_type": "markdown",
      "metadata": {
        "id": "jun7fzyDdoFy"
      },
      "source": [
        "##### idade - idade da pessoa a quem o anúncio é mostrado."
      ]
    },
    {
      "cell_type": "code",
      "metadata": {
        "id": "FXmgXuemdoWg"
      },
      "source": [
        ""
      ],
      "execution_count": null,
      "outputs": []
    },
    {
      "cell_type": "markdown",
      "metadata": {
        "id": "AXTfEglzdq5i"
      },
      "source": [
        "##### gênero - sexo da pessoa que deseja que o anúncio seja mostrado"
      ]
    },
    {
      "cell_type": "code",
      "metadata": {
        "id": "17eYtR0jdrI5"
      },
      "source": [
        ""
      ],
      "execution_count": null,
      "outputs": []
    },
    {
      "cell_type": "markdown",
      "metadata": {
        "id": "G2_S0p27ds7i"
      },
      "source": [
        "#### interesse - código que especifica a categoria à qual pertence o interesse da pessoa (os interesses são mencionados no perfil público da pessoa no Facebook)"
      ]
    },
    {
      "cell_type": "code",
      "metadata": {
        "id": "m6OFkZMgdtHB"
      },
      "source": [
        ""
      ],
      "execution_count": null,
      "outputs": []
    },
    {
      "cell_type": "markdown",
      "metadata": {
        "id": "75MTUOnOdxNX"
      },
      "source": [
        "#### valor_pago_anuncio - Valor pago pela empresa xyz ao Facebook, para exibir aquele anúncio."
      ]
    },
    {
      "cell_type": "code",
      "metadata": {
        "id": "V0MthylTdxbS"
      },
      "source": [
        ""
      ],
      "execution_count": null,
      "outputs": []
    },
    {
      "cell_type": "markdown",
      "metadata": {
        "id": "N6a5AVM9dzpp"
      },
      "source": [
        "#### numero_exibicoes - o número de vezes que o anúncio foi mostrado."
      ]
    },
    {
      "cell_type": "code",
      "metadata": {
        "id": "A2Mtu-04dz1C"
      },
      "source": [
        ""
      ],
      "execution_count": null,
      "outputs": []
    },
    {
      "cell_type": "markdown",
      "metadata": {
        "id": "WQImiuLSd4ja"
      },
      "source": [
        "#### Pessoas que compraram (por idade/gênero)"
      ]
    },
    {
      "cell_type": "code",
      "metadata": {
        "id": "j3pCIj1Od7nz"
      },
      "source": [
        ""
      ],
      "execution_count": null,
      "outputs": []
    },
    {
      "cell_type": "markdown",
      "metadata": {
        "id": "PW5Fpwa6d--B"
      },
      "source": [
        "# Etapa 4: Modelagem/Machine Learning\n"
      ]
    },
    {
      "cell_type": "code",
      "metadata": {
        "id": "Ns1kq3tcd_Mz"
      },
      "source": [
        ""
      ],
      "execution_count": null,
      "outputs": []
    },
    {
      "cell_type": "markdown",
      "metadata": {
        "id": "k7frHBe3eAfH"
      },
      "source": [
        "# Etapa 5: Avaliando o Modelo\n"
      ]
    },
    {
      "cell_type": "code",
      "metadata": {
        "id": "17ml7Y5ieCZs"
      },
      "source": [
        ""
      ],
      "execution_count": null,
      "outputs": []
    }
  ]
}